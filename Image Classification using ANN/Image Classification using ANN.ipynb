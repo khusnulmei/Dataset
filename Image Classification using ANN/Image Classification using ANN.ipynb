{
 "cells": [
  {
   "cell_type": "markdown",
   "metadata": {},
   "source": [
    "<h3>1. Import module yang dibutuhkan</h3>"
   ]
  },
  {
   "cell_type": "code",
   "execution_count": 1,
   "metadata": {},
   "outputs": [],
   "source": [
    "from sklearn.model_selection import train_test_split\n",
    "from sklearn.preprocessing import LabelEncoder\n",
    "from sklearn.metrics import classification_report\n",
    "from tensorflow.keras.models import Sequential\n",
    "from tensorflow.keras.layers import Flatten, Dense\n",
    "from tensorflow.keras.optimizers import SGD\n",
    "import numpy as np\n",
    "import cv2\n",
    "import glob\n",
    "import matplotlib.pyplot as plt"
   ]
  },
  {
   "cell_type": "markdown",
   "metadata": {},
   "source": [
    "<h3>2. Load Dataset</h3>"
   ]
  },
  {
   "cell_type": "code",
   "execution_count": 2,
   "metadata": {},
   "outputs": [],
   "source": [
    "imagePaths = 'dataset\\\\daun\\\\'\n",
    "label_list = ['daun_jeruk', 'daun_seledri']\n",
    "data = []\n",
    "labels = []"
   ]
  },
  {
   "cell_type": "code",
   "execution_count": 3,
   "metadata": {},
   "outputs": [],
   "source": [
    "for label in label_list:\n",
    "    for imagePath in glob.glob(imagePaths+label+'\\\\*.jpg'):\n",
    "        #print(imagePath)\n",
    "        image = cv2.imread(imagePath)\n",
    "        image = cv2.resize(image, (32, 32))\n",
    "        data.append(image)\n",
    "        labels.append(label)"
   ]
  },
  {
   "cell_type": "code",
   "execution_count": 4,
   "metadata": {},
   "outputs": [
    {
     "data": {
      "text/plain": [
       "(100, 32, 32, 3)"
      ]
     },
     "execution_count": 4,
     "metadata": {},
     "output_type": "execute_result"
    }
   ],
   "source": [
    "np.array(data).shape"
   ]
  },
  {
   "cell_type": "markdown",
   "metadata": {},
   "source": [
    "<h3>3. Data Preprocessing</h3>"
   ]
  },
  {
   "cell_type": "code",
   "execution_count": 5,
   "metadata": {},
   "outputs": [],
   "source": [
    "# ubah type data dari list menjadi array\n",
    "# ubah nilai dari tiap pixel menjadi range [0..1]\n",
    "data = np.array(data, dtype='float') / 255.0\n",
    "labels = np.array(labels)"
   ]
  },
  {
   "cell_type": "code",
   "execution_count": 6,
   "metadata": {},
   "outputs": [
    {
     "name": "stdout",
     "output_type": "stream",
     "text": [
      "['daun_jeruk' 'daun_jeruk' 'daun_jeruk' 'daun_jeruk' 'daun_jeruk'\n",
      " 'daun_jeruk' 'daun_jeruk' 'daun_jeruk' 'daun_jeruk' 'daun_jeruk'\n",
      " 'daun_jeruk' 'daun_jeruk' 'daun_jeruk' 'daun_jeruk' 'daun_jeruk'\n",
      " 'daun_jeruk' 'daun_jeruk' 'daun_jeruk' 'daun_jeruk' 'daun_jeruk'\n",
      " 'daun_jeruk' 'daun_jeruk' 'daun_jeruk' 'daun_jeruk' 'daun_jeruk'\n",
      " 'daun_jeruk' 'daun_jeruk' 'daun_jeruk' 'daun_jeruk' 'daun_jeruk'\n",
      " 'daun_jeruk' 'daun_jeruk' 'daun_jeruk' 'daun_jeruk' 'daun_jeruk'\n",
      " 'daun_jeruk' 'daun_jeruk' 'daun_jeruk' 'daun_jeruk' 'daun_jeruk'\n",
      " 'daun_jeruk' 'daun_jeruk' 'daun_jeruk' 'daun_jeruk' 'daun_jeruk'\n",
      " 'daun_jeruk' 'daun_jeruk' 'daun_jeruk' 'daun_jeruk' 'daun_jeruk'\n",
      " 'daun_seledri' 'daun_seledri' 'daun_seledri' 'daun_seledri'\n",
      " 'daun_seledri' 'daun_seledri' 'daun_seledri' 'daun_seledri'\n",
      " 'daun_seledri' 'daun_seledri' 'daun_seledri' 'daun_seledri'\n",
      " 'daun_seledri' 'daun_seledri' 'daun_seledri' 'daun_seledri'\n",
      " 'daun_seledri' 'daun_seledri' 'daun_seledri' 'daun_seledri'\n",
      " 'daun_seledri' 'daun_seledri' 'daun_seledri' 'daun_seledri'\n",
      " 'daun_seledri' 'daun_seledri' 'daun_seledri' 'daun_seledri'\n",
      " 'daun_seledri' 'daun_seledri' 'daun_seledri' 'daun_seledri'\n",
      " 'daun_seledri' 'daun_seledri' 'daun_seledri' 'daun_seledri'\n",
      " 'daun_seledri' 'daun_seledri' 'daun_seledri' 'daun_seledri'\n",
      " 'daun_seledri' 'daun_seledri' 'daun_seledri' 'daun_seledri'\n",
      " 'daun_seledri' 'daun_seledri' 'daun_seledri' 'daun_seledri'\n",
      " 'daun_seledri' 'daun_seledri']\n"
     ]
    }
   ],
   "source": [
    "print(labels)"
   ]
  },
  {
   "cell_type": "code",
   "execution_count": 7,
   "metadata": {},
   "outputs": [
    {
     "name": "stdout",
     "output_type": "stream",
     "text": [
      "[0 0 0 0 0 0 0 0 0 0 0 0 0 0 0 0 0 0 0 0 0 0 0 0 0 0 0 0 0 0 0 0 0 0 0 0 0\n",
      " 0 0 0 0 0 0 0 0 0 0 0 0 0 1 1 1 1 1 1 1 1 1 1 1 1 1 1 1 1 1 1 1 1 1 1 1 1\n",
      " 1 1 1 1 1 1 1 1 1 1 1 1 1 1 1 1 1 1 1 1 1 1 1 1 1 1]\n"
     ]
    }
   ],
   "source": [
    "# ubah nilai dari labels menjadi binary\n",
    "lb = LabelEncoder()\n",
    "labels = lb.fit_transform(labels)\n",
    "print(labels)"
   ]
  },
  {
   "cell_type": "markdown",
   "metadata": {},
   "source": [
    "<h3>4. Split Dataset</h3>"
   ]
  },
  {
   "cell_type": "code",
   "execution_count": 8,
   "metadata": {},
   "outputs": [],
   "source": [
    "x_train, x_test, y_train, y_test = train_test_split(data, labels, test_size=0.2, random_state=42)"
   ]
  },
  {
   "cell_type": "code",
   "execution_count": 9,
   "metadata": {},
   "outputs": [
    {
     "name": "stdout",
     "output_type": "stream",
     "text": [
      "Ukuran data train = (80, 32, 32, 3)\n",
      "Ukuran data test = (20, 32, 32, 3)\n"
     ]
    }
   ],
   "source": [
    "print('Ukuran data train =', x_train.shape)\n",
    "print('Ukuran data test =', x_test.shape)"
   ]
  },
  {
   "cell_type": "markdown",
   "metadata": {},
   "source": [
    "<h3>5. Build ANN Architecture</h3>"
   ]
  },
  {
   "cell_type": "code",
   "execution_count": 10,
   "metadata": {},
   "outputs": [],
   "source": [
    "model = Sequential()\n",
    "model.add(Flatten(input_shape=(32,32,3)))\n",
    "model.add(Dense(1024, activation=\"relu\"))\n",
    "model.add(Dense(1024, activation=\"relu\"))\n",
    "model.add(Dense(1, activation=\"sigmoid\"))"
   ]
  },
  {
   "cell_type": "code",
   "execution_count": 11,
   "metadata": {},
   "outputs": [
    {
     "name": "stdout",
     "output_type": "stream",
     "text": [
      "Model: \"sequential\"\n",
      "_________________________________________________________________\n",
      " Layer (type)                Output Shape              Param #   \n",
      "=================================================================\n",
      " flatten (Flatten)           (None, 3072)              0         \n",
      "                                                                 \n",
      " dense (Dense)               (None, 1024)              3146752   \n",
      "                                                                 \n",
      " dense_1 (Dense)             (None, 1024)              1049600   \n",
      "                                                                 \n",
      " dense_2 (Dense)             (None, 1)                 1025      \n",
      "                                                                 \n",
      "=================================================================\n",
      "Total params: 4,197,377\n",
      "Trainable params: 4,197,377\n",
      "Non-trainable params: 0\n",
      "_________________________________________________________________\n"
     ]
    }
   ],
   "source": [
    "model.summary()"
   ]
  },
  {
   "cell_type": "code",
   "execution_count": 12,
   "metadata": {},
   "outputs": [],
   "source": [
    "# tentukan hyperparameter\n",
    "lr = 0.01\n",
    "max_epochs = 100\n",
    "opt_funct = SGD(learning_rate=lr)"
   ]
  },
  {
   "cell_type": "code",
   "execution_count": 13,
   "metadata": {},
   "outputs": [],
   "source": [
    "# compile arsitektur yang telah dibuat\n",
    "model.compile(loss = 'binary_crossentropy', \n",
    "              optimizer = opt_funct, \n",
    "              metrics = ['accuracy'])"
   ]
  },
  {
   "cell_type": "markdown",
   "metadata": {},
   "source": [
    "<h3>6. Train Model</h3>"
   ]
  },
  {
   "cell_type": "code",
   "execution_count": 14,
   "metadata": {},
   "outputs": [
    {
     "name": "stdout",
     "output_type": "stream",
     "text": [
      "Epoch 1/100\n",
      "3/3 [==============================] - 1s 146ms/step - loss: 0.7305 - accuracy: 0.4875 - val_loss: 0.8279 - val_accuracy: 0.4000\n",
      "Epoch 2/100\n",
      "3/3 [==============================] - 0s 42ms/step - loss: 0.6915 - accuracy: 0.5750 - val_loss: 1.2460 - val_accuracy: 0.6000\n",
      "Epoch 3/100\n",
      "3/3 [==============================] - 0s 46ms/step - loss: 0.9311 - accuracy: 0.5750 - val_loss: 0.9055 - val_accuracy: 0.4000\n",
      "Epoch 4/100\n",
      "3/3 [==============================] - 0s 37ms/step - loss: 0.6291 - accuracy: 0.5500 - val_loss: 0.5872 - val_accuracy: 0.9000\n",
      "Epoch 5/100\n",
      "3/3 [==============================] - 0s 43ms/step - loss: 0.5676 - accuracy: 0.6625 - val_loss: 0.6578 - val_accuracy: 0.4500\n",
      "Epoch 6/100\n",
      "3/3 [==============================] - 0s 39ms/step - loss: 0.6241 - accuracy: 0.5625 - val_loss: 0.5633 - val_accuracy: 0.9000\n",
      "Epoch 7/100\n",
      "3/3 [==============================] - 0s 45ms/step - loss: 0.4891 - accuracy: 0.8750 - val_loss: 0.5932 - val_accuracy: 0.6000\n",
      "Epoch 8/100\n",
      "3/3 [==============================] - 0s 47ms/step - loss: 0.5577 - accuracy: 0.6125 - val_loss: 0.7782 - val_accuracy: 0.4000\n",
      "Epoch 9/100\n",
      "3/3 [==============================] - 0s 43ms/step - loss: 0.6147 - accuracy: 0.5500 - val_loss: 0.6897 - val_accuracy: 0.6000\n",
      "Epoch 10/100\n",
      "3/3 [==============================] - 0s 45ms/step - loss: 0.8111 - accuracy: 0.4125 - val_loss: 0.8740 - val_accuracy: 0.4000\n",
      "Epoch 11/100\n",
      "3/3 [==============================] - 0s 56ms/step - loss: 0.5019 - accuracy: 0.8000 - val_loss: 0.5638 - val_accuracy: 0.7500\n",
      "Epoch 12/100\n",
      "3/3 [==============================] - 0s 49ms/step - loss: 0.4185 - accuracy: 0.8750 - val_loss: 0.4826 - val_accuracy: 0.8000\n",
      "Epoch 13/100\n",
      "3/3 [==============================] - 0s 45ms/step - loss: 0.4232 - accuracy: 0.8500 - val_loss: 0.4733 - val_accuracy: 0.8500\n",
      "Epoch 14/100\n",
      "3/3 [==============================] - 0s 41ms/step - loss: 0.4429 - accuracy: 0.8000 - val_loss: 0.9084 - val_accuracy: 0.4000\n",
      "Epoch 15/100\n",
      "3/3 [==============================] - 0s 45ms/step - loss: 0.5906 - accuracy: 0.6250 - val_loss: 0.4752 - val_accuracy: 0.7500\n",
      "Epoch 16/100\n",
      "3/3 [==============================] - 0s 43ms/step - loss: 0.4043 - accuracy: 0.8375 - val_loss: 0.5000 - val_accuracy: 0.8500\n",
      "Epoch 17/100\n",
      "3/3 [==============================] - 0s 41ms/step - loss: 0.3569 - accuracy: 0.9500 - val_loss: 0.4471 - val_accuracy: 0.9000\n",
      "Epoch 18/100\n",
      "3/3 [==============================] - 0s 42ms/step - loss: 0.3852 - accuracy: 0.8375 - val_loss: 1.0372 - val_accuracy: 0.4000\n",
      "Epoch 19/100\n",
      "3/3 [==============================] - 0s 39ms/step - loss: 0.5193 - accuracy: 0.7375 - val_loss: 0.4435 - val_accuracy: 0.9000\n",
      "Epoch 20/100\n",
      "3/3 [==============================] - 0s 41ms/step - loss: 0.3468 - accuracy: 0.9125 - val_loss: 0.4889 - val_accuracy: 0.8500\n",
      "Epoch 21/100\n",
      "3/3 [==============================] - 0s 42ms/step - loss: 0.3328 - accuracy: 0.9125 - val_loss: 0.6451 - val_accuracy: 0.5500\n",
      "Epoch 22/100\n",
      "3/3 [==============================] - 0s 41ms/step - loss: 0.4006 - accuracy: 0.8250 - val_loss: 0.4624 - val_accuracy: 0.7000\n",
      "Epoch 23/100\n",
      "3/3 [==============================] - 0s 39ms/step - loss: 0.3260 - accuracy: 0.9125 - val_loss: 0.3972 - val_accuracy: 0.9000\n",
      "Epoch 24/100\n",
      "3/3 [==============================] - 0s 40ms/step - loss: 0.3093 - accuracy: 0.9250 - val_loss: 0.4109 - val_accuracy: 0.7500\n",
      "Epoch 25/100\n",
      "3/3 [==============================] - 0s 39ms/step - loss: 0.2800 - accuracy: 0.9875 - val_loss: 0.4759 - val_accuracy: 0.8500\n",
      "Epoch 26/100\n",
      "3/3 [==============================] - 0s 41ms/step - loss: 0.2855 - accuracy: 0.9125 - val_loss: 0.4680 - val_accuracy: 0.8500\n",
      "Epoch 27/100\n",
      "3/3 [==============================] - 0s 39ms/step - loss: 0.3640 - accuracy: 0.7750 - val_loss: 0.4259 - val_accuracy: 0.8500\n",
      "Epoch 28/100\n",
      "3/3 [==============================] - 0s 39ms/step - loss: 0.2742 - accuracy: 0.9125 - val_loss: 0.4264 - val_accuracy: 0.8500\n",
      "Epoch 29/100\n",
      "3/3 [==============================] - 0s 41ms/step - loss: 0.2871 - accuracy: 0.9000 - val_loss: 0.3757 - val_accuracy: 0.8000\n",
      "Epoch 30/100\n",
      "3/3 [==============================] - 0s 42ms/step - loss: 0.3537 - accuracy: 0.8375 - val_loss: 0.4032 - val_accuracy: 0.8500\n",
      "Epoch 31/100\n",
      "3/3 [==============================] - 0s 39ms/step - loss: 0.2527 - accuracy: 0.9625 - val_loss: 0.4204 - val_accuracy: 0.8500\n",
      "Epoch 32/100\n",
      "3/3 [==============================] - 0s 41ms/step - loss: 0.2932 - accuracy: 0.9125 - val_loss: 0.6381 - val_accuracy: 0.6000\n",
      "Epoch 33/100\n",
      "3/3 [==============================] - 0s 39ms/step - loss: 0.2911 - accuracy: 0.8625 - val_loss: 0.8008 - val_accuracy: 0.4500\n",
      "Epoch 34/100\n",
      "3/3 [==============================] - 0s 41ms/step - loss: 0.5616 - accuracy: 0.6500 - val_loss: 0.3848 - val_accuracy: 0.9000\n",
      "Epoch 35/100\n",
      "3/3 [==============================] - 0s 43ms/step - loss: 0.2508 - accuracy: 0.9250 - val_loss: 0.3664 - val_accuracy: 0.9000\n",
      "Epoch 36/100\n",
      "3/3 [==============================] - 0s 51ms/step - loss: 0.2360 - accuracy: 0.9500 - val_loss: 0.3527 - val_accuracy: 0.8000\n",
      "Epoch 37/100\n",
      "3/3 [==============================] - 0s 43ms/step - loss: 0.3818 - accuracy: 0.8250 - val_loss: 0.6623 - val_accuracy: 0.6000\n",
      "Epoch 38/100\n",
      "3/3 [==============================] - 0s 43ms/step - loss: 0.4155 - accuracy: 0.7750 - val_loss: 0.3295 - val_accuracy: 0.9000\n",
      "Epoch 39/100\n",
      "3/3 [==============================] - 0s 39ms/step - loss: 0.2288 - accuracy: 0.9500 - val_loss: 0.3443 - val_accuracy: 0.8000\n",
      "Epoch 40/100\n",
      "3/3 [==============================] - 0s 40ms/step - loss: 0.2261 - accuracy: 0.9500 - val_loss: 0.3256 - val_accuracy: 0.9000\n",
      "Epoch 41/100\n",
      "3/3 [==============================] - 0s 43ms/step - loss: 0.2104 - accuracy: 0.9625 - val_loss: 0.3819 - val_accuracy: 0.7500\n",
      "Epoch 42/100\n",
      "3/3 [==============================] - 0s 50ms/step - loss: 0.5230 - accuracy: 0.7125 - val_loss: 0.4809 - val_accuracy: 0.8000\n",
      "Epoch 43/100\n",
      "3/3 [==============================] - 0s 50ms/step - loss: 0.2706 - accuracy: 0.9000 - val_loss: 0.3271 - val_accuracy: 0.8000\n",
      "Epoch 44/100\n",
      "3/3 [==============================] - 0s 44ms/step - loss: 0.2293 - accuracy: 0.9250 - val_loss: 0.3140 - val_accuracy: 0.9000\n",
      "Epoch 45/100\n",
      "3/3 [==============================] - 0s 42ms/step - loss: 0.2249 - accuracy: 0.9250 - val_loss: 0.4665 - val_accuracy: 0.7500\n",
      "Epoch 46/100\n",
      "3/3 [==============================] - 0s 45ms/step - loss: 0.3685 - accuracy: 0.8250 - val_loss: 0.3529 - val_accuracy: 0.9000\n",
      "Epoch 47/100\n",
      "3/3 [==============================] - 0s 46ms/step - loss: 0.2088 - accuracy: 0.9375 - val_loss: 0.3001 - val_accuracy: 0.9000\n",
      "Epoch 48/100\n",
      "3/3 [==============================] - 0s 43ms/step - loss: 0.2438 - accuracy: 0.9125 - val_loss: 0.4265 - val_accuracy: 0.8500\n",
      "Epoch 49/100\n",
      "3/3 [==============================] - 0s 46ms/step - loss: 0.2064 - accuracy: 0.9375 - val_loss: 0.2980 - val_accuracy: 0.9000\n",
      "Epoch 50/100\n",
      "3/3 [==============================] - 0s 49ms/step - loss: 0.1909 - accuracy: 0.9375 - val_loss: 0.3098 - val_accuracy: 0.9000\n",
      "Epoch 51/100\n",
      "3/3 [==============================] - 0s 48ms/step - loss: 0.1854 - accuracy: 0.9500 - val_loss: 0.3198 - val_accuracy: 0.8000\n",
      "Epoch 52/100\n",
      "3/3 [==============================] - 0s 52ms/step - loss: 0.1976 - accuracy: 0.9375 - val_loss: 0.3568 - val_accuracy: 0.8500\n",
      "Epoch 53/100\n",
      "3/3 [==============================] - 0s 80ms/step - loss: 0.1951 - accuracy: 0.9375 - val_loss: 0.3082 - val_accuracy: 0.9000\n",
      "Epoch 54/100\n",
      "3/3 [==============================] - 0s 52ms/step - loss: 0.1767 - accuracy: 0.9375 - val_loss: 0.3978 - val_accuracy: 0.8500\n",
      "Epoch 55/100\n",
      "3/3 [==============================] - 0s 52ms/step - loss: 0.2583 - accuracy: 0.8750 - val_loss: 0.3705 - val_accuracy: 0.7500\n",
      "Epoch 56/100\n",
      "3/3 [==============================] - 0s 56ms/step - loss: 0.3089 - accuracy: 0.8375 - val_loss: 0.4758 - val_accuracy: 0.8000\n",
      "Epoch 57/100\n",
      "3/3 [==============================] - 0s 54ms/step - loss: 0.2295 - accuracy: 0.9000 - val_loss: 0.3601 - val_accuracy: 0.7500\n",
      "Epoch 58/100\n",
      "3/3 [==============================] - 0s 52ms/step - loss: 0.2714 - accuracy: 0.8625 - val_loss: 0.2980 - val_accuracy: 0.8000\n",
      "Epoch 59/100\n",
      "3/3 [==============================] - 0s 54ms/step - loss: 0.1689 - accuracy: 0.9625 - val_loss: 0.3305 - val_accuracy: 0.9000\n",
      "Epoch 60/100\n",
      "3/3 [==============================] - 0s 60ms/step - loss: 0.3108 - accuracy: 0.8500 - val_loss: 0.4789 - val_accuracy: 0.7500\n",
      "Epoch 61/100\n",
      "3/3 [==============================] - 0s 45ms/step - loss: 0.3845 - accuracy: 0.7750 - val_loss: 0.5995 - val_accuracy: 0.7000\n",
      "Epoch 62/100\n",
      "3/3 [==============================] - 0s 48ms/step - loss: 0.1928 - accuracy: 0.9250 - val_loss: 0.3058 - val_accuracy: 0.9000\n",
      "Epoch 63/100\n",
      "3/3 [==============================] - 0s 54ms/step - loss: 0.2062 - accuracy: 0.9125 - val_loss: 0.3969 - val_accuracy: 0.7500\n",
      "Epoch 64/100\n",
      "3/3 [==============================] - 0s 44ms/step - loss: 0.3413 - accuracy: 0.8250 - val_loss: 0.7949 - val_accuracy: 0.6000\n",
      "Epoch 65/100\n",
      "3/3 [==============================] - 0s 52ms/step - loss: 0.2567 - accuracy: 0.9250 - val_loss: 0.3482 - val_accuracy: 0.8500\n",
      "Epoch 66/100\n",
      "3/3 [==============================] - 0s 49ms/step - loss: 0.1488 - accuracy: 0.9500 - val_loss: 0.3200 - val_accuracy: 0.8500\n",
      "Epoch 67/100\n",
      "3/3 [==============================] - 0s 52ms/step - loss: 0.1716 - accuracy: 0.9500 - val_loss: 0.2625 - val_accuracy: 0.9500\n",
      "Epoch 68/100\n",
      "3/3 [==============================] - 0s 55ms/step - loss: 0.1475 - accuracy: 0.9625 - val_loss: 0.2760 - val_accuracy: 0.9000\n",
      "Epoch 69/100\n",
      "3/3 [==============================] - 0s 45ms/step - loss: 0.1659 - accuracy: 0.9500 - val_loss: 0.2593 - val_accuracy: 0.9500\n",
      "Epoch 70/100\n",
      "3/3 [==============================] - 0s 47ms/step - loss: 0.1538 - accuracy: 0.9625 - val_loss: 0.2516 - val_accuracy: 0.9000\n",
      "Epoch 71/100\n",
      "3/3 [==============================] - 0s 49ms/step - loss: 0.1413 - accuracy: 0.9625 - val_loss: 0.3133 - val_accuracy: 0.9000\n",
      "Epoch 72/100\n",
      "3/3 [==============================] - 0s 49ms/step - loss: 0.1376 - accuracy: 0.9375 - val_loss: 0.2515 - val_accuracy: 0.9000\n",
      "Epoch 73/100\n",
      "3/3 [==============================] - 0s 51ms/step - loss: 0.1855 - accuracy: 0.9250 - val_loss: 0.3652 - val_accuracy: 0.8500\n",
      "Epoch 74/100\n",
      "3/3 [==============================] - 0s 52ms/step - loss: 0.2559 - accuracy: 0.9000 - val_loss: 0.2863 - val_accuracy: 0.8000\n",
      "Epoch 75/100\n",
      "3/3 [==============================] - 0s 51ms/step - loss: 0.1680 - accuracy: 0.9500 - val_loss: 0.2791 - val_accuracy: 0.9000\n",
      "Epoch 76/100\n",
      "3/3 [==============================] - 0s 50ms/step - loss: 0.1787 - accuracy: 0.9250 - val_loss: 0.3312 - val_accuracy: 0.8000\n",
      "Epoch 77/100\n",
      "3/3 [==============================] - 0s 49ms/step - loss: 0.1514 - accuracy: 0.9500 - val_loss: 0.2465 - val_accuracy: 0.9500\n",
      "Epoch 78/100\n",
      "3/3 [==============================] - 0s 50ms/step - loss: 0.1752 - accuracy: 0.9250 - val_loss: 0.2697 - val_accuracy: 0.8500\n",
      "Epoch 79/100\n",
      "3/3 [==============================] - 0s 52ms/step - loss: 0.1628 - accuracy: 0.9625 - val_loss: 0.5146 - val_accuracy: 0.8000\n",
      "Epoch 80/100\n",
      "3/3 [==============================] - 0s 46ms/step - loss: 0.1910 - accuracy: 0.9500 - val_loss: 0.3949 - val_accuracy: 0.8500\n",
      "Epoch 81/100\n",
      "3/3 [==============================] - 0s 47ms/step - loss: 0.3225 - accuracy: 0.8250 - val_loss: 0.2394 - val_accuracy: 0.9000\n",
      "Epoch 82/100\n",
      "3/3 [==============================] - 0s 50ms/step - loss: 0.1287 - accuracy: 0.9750 - val_loss: 0.2438 - val_accuracy: 0.9000\n",
      "Epoch 83/100\n",
      "3/3 [==============================] - 0s 50ms/step - loss: 0.1476 - accuracy: 0.9625 - val_loss: 0.3832 - val_accuracy: 0.8500\n",
      "Epoch 84/100\n",
      "3/3 [==============================] - 0s 53ms/step - loss: 0.1531 - accuracy: 0.9625 - val_loss: 0.2411 - val_accuracy: 0.9000\n",
      "Epoch 85/100\n",
      "3/3 [==============================] - 0s 44ms/step - loss: 0.1284 - accuracy: 1.0000 - val_loss: 0.2730 - val_accuracy: 0.8500\n",
      "Epoch 86/100\n",
      "3/3 [==============================] - 0s 41ms/step - loss: 0.1178 - accuracy: 0.9875 - val_loss: 0.2811 - val_accuracy: 0.9000\n",
      "Epoch 87/100\n",
      "3/3 [==============================] - 0s 45ms/step - loss: 0.1914 - accuracy: 0.9125 - val_loss: 1.3626 - val_accuracy: 0.4000\n",
      "Epoch 88/100\n",
      "3/3 [==============================] - 0s 50ms/step - loss: 0.7312 - accuracy: 0.6625 - val_loss: 0.8469 - val_accuracy: 0.7000\n",
      "Epoch 89/100\n",
      "3/3 [==============================] - 0s 52ms/step - loss: 0.5981 - accuracy: 0.7375 - val_loss: 0.7824 - val_accuracy: 0.6000\n",
      "Epoch 90/100\n",
      "3/3 [==============================] - 0s 49ms/step - loss: 0.3809 - accuracy: 0.8375 - val_loss: 0.2821 - val_accuracy: 0.8000\n",
      "Epoch 91/100\n",
      "3/3 [==============================] - 0s 48ms/step - loss: 0.1519 - accuracy: 0.9500 - val_loss: 0.2430 - val_accuracy: 0.9500\n",
      "Epoch 92/100\n",
      "3/3 [==============================] - 0s 54ms/step - loss: 0.1326 - accuracy: 0.9750 - val_loss: 0.2305 - val_accuracy: 0.9000\n",
      "Epoch 93/100\n",
      "3/3 [==============================] - 0s 47ms/step - loss: 0.1185 - accuracy: 0.9625 - val_loss: 0.2301 - val_accuracy: 0.9000\n",
      "Epoch 94/100\n",
      "3/3 [==============================] - 0s 50ms/step - loss: 0.1397 - accuracy: 0.9500 - val_loss: 0.2344 - val_accuracy: 0.9000\n",
      "Epoch 95/100\n",
      "3/3 [==============================] - 0s 49ms/step - loss: 0.1186 - accuracy: 0.9875 - val_loss: 0.2703 - val_accuracy: 0.9000\n",
      "Epoch 96/100\n",
      "3/3 [==============================] - 0s 71ms/step - loss: 0.1145 - accuracy: 0.9750 - val_loss: 0.2247 - val_accuracy: 0.9000\n",
      "Epoch 97/100\n",
      "3/3 [==============================] - 0s 49ms/step - loss: 0.1582 - accuracy: 0.9500 - val_loss: 0.2238 - val_accuracy: 0.9000\n",
      "Epoch 98/100\n",
      "3/3 [==============================] - 0s 52ms/step - loss: 0.1101 - accuracy: 0.9750 - val_loss: 0.2739 - val_accuracy: 0.9000\n",
      "Epoch 99/100\n",
      "3/3 [==============================] - 0s 52ms/step - loss: 0.2206 - accuracy: 0.9250 - val_loss: 0.2396 - val_accuracy: 0.9500\n",
      "Epoch 100/100\n",
      "3/3 [==============================] - 0s 49ms/step - loss: 0.1318 - accuracy: 0.9500 - val_loss: 0.2405 - val_accuracy: 0.9500\n"
     ]
    }
   ],
   "source": [
    "H = model.fit(x_train, y_train, validation_data=(x_test, y_test), \n",
    "          epochs=max_epochs, batch_size=32)"
   ]
  },
  {
   "cell_type": "code",
   "execution_count": 15,
   "metadata": {},
   "outputs": [
    {
     "data": {
      "image/png": "[encoded data removed]",
      "text/plain": [
       "<Figure size 432x288 with 1 Axes>"
      ]
     },
     "metadata": {},
     "output_type": "display_data"
    }
   ],
   "source": [
    "N = np.arange(0, max_epochs)\n",
    "plt.style.use(\"ggplot\")\n",
    "plt.figure()\n",
    "plt.plot(N, H.history[\"loss\"], label=\"train_loss\")\n",
    "plt.plot(N, H.history[\"val_loss\"], label=\"val_loss\")\n",
    "#plt.plot(N, H.history[\"accuracy\"], label=\"train_acc\")\n",
    "#plt.plot(N, H.history[\"val_accuracy\"], label=\"val_acc\")\n",
    "plt.xlabel(\"Epoch #\")\n",
    "plt.legend()\n",
    "plt.show()"
   ]
  },
  {
   "cell_type": "markdown",
   "metadata": {},
   "source": [
    "<h3>7. Evaluate the Model</h3>"
   ]
  },
  {
   "cell_type": "code",
   "execution_count": 16,
   "metadata": {},
   "outputs": [
    {
     "name": "stdout",
     "output_type": "stream",
     "text": [
      "              precision    recall  f1-score   support\n",
      "\n",
      "  daun_jeruk       1.00      0.92      0.96        12\n",
      "daun_seledri       0.89      1.00      0.94         8\n",
      "\n",
      "    accuracy                           0.95        20\n",
      "   macro avg       0.94      0.96      0.95        20\n",
      "weighted avg       0.96      0.95      0.95        20\n",
      "\n"
     ]
    },
    {
     "name": "stderr",
     "output_type": "stream",
     "text": [
      "C:\\Users\\User\\AppData\\Local\\Temp/ipykernel_12924/954476436.py:3: DeprecationWarning: `np.int` is a deprecated alias for the builtin `int`. To silence this warning, use `int` by itself. Doing this will not modify any behavior and is safe. When replacing `np.int`, you may wish to use e.g. `np.int64` or `np.int32` to specify the precision. If you wish to review your current use, check the release note link for additional information.\n",
      "Deprecated in NumPy 1.20; for more details and guidance: https://numpy.org/devdocs/release/1.20.0-notes.html#deprecations\n",
      "  target = (predictions > 0.5).astype(np.int)\n"
     ]
    }
   ],
   "source": [
    "# menghitung nilai akurasi model terhadap data test\n",
    "predictions = model.predict(x_test, batch_size=32)\n",
    "target = (predictions > 0.5).astype(np.int)\n",
    "print(classification_report(y_test, target, target_names=label_list))"
   ]
  },
  {
   "cell_type": "code",
   "execution_count": 41,
   "metadata": {},
   "outputs": [
    {
     "name": "stdout",
     "output_type": "stream",
     "text": [
      "[[0.92453825]]\n"
     ]
    }
   ],
   "source": [
    "# uji model menggunakan image lain\n",
    "queryPath = imagePaths+'daunseledri_001.jpg'\n",
    "query = cv2.imread(queryPath)\n",
    "output = cv2.resize(query, (500,400))\n",
    "query = cv2.resize(query, (32, 32))\n",
    "q = []\n",
    "q.append(query)\n",
    "q = np.array(q, dtype='float') / 255.0\n",
    "\n",
    "q_pred = model.predict(q)\n",
    "print(q_pred)"
   ]
  },
  {
   "cell_type": "code",
   "execution_count": 43,
   "metadata": {},
   "outputs": [
    {
     "ename": "error",
     "evalue": "OpenCV(4.5.4-dev) D:\\a\\opencv-python\\opencv-python\\opencv\\modules\\highgui\\src\\window_w32.cpp:1261: error: (-27:Null pointer) NULL window: 'Output' in function 'cvDestroyWindow'\n",
     "output_type": "error",
     "traceback": [
      "\u001b[1;31m---------------------------------------------------------------------------\u001b[0m",
      "\u001b[1;31merror\u001b[0m                                     Traceback (most recent call last)",
      "\u001b[1;32m~\\AppData\\Local\\Temp/ipykernel_12924/2877219005.py\u001b[0m in \u001b[0;36m<module>\u001b[1;34m\u001b[0m\n\u001b[0;32m      9\u001b[0m \u001b[0mcv2\u001b[0m\u001b[1;33m.\u001b[0m\u001b[0mimshow\u001b[0m\u001b[1;33m(\u001b[0m\u001b[1;34m'Output'\u001b[0m\u001b[1;33m,\u001b[0m \u001b[0moutput\u001b[0m\u001b[1;33m)\u001b[0m\u001b[1;33m\u001b[0m\u001b[1;33m\u001b[0m\u001b[0m\n\u001b[0;32m     10\u001b[0m \u001b[0mcv2\u001b[0m\u001b[1;33m.\u001b[0m\u001b[0mwaitKey\u001b[0m\u001b[1;33m(\u001b[0m\u001b[1;33m)\u001b[0m \u001b[1;31m# image tidak akan diclose,sebelum user menekan sembarang tombol\u001b[0m\u001b[1;33m\u001b[0m\u001b[1;33m\u001b[0m\u001b[0m\n\u001b[1;32m---> 11\u001b[1;33m \u001b[0mcv2\u001b[0m\u001b[1;33m.\u001b[0m\u001b[0mdestroyWindow\u001b[0m\u001b[1;33m(\u001b[0m\u001b[1;34m'Output'\u001b[0m\u001b[1;33m)\u001b[0m \u001b[1;31m# image akan diclose\u001b[0m\u001b[1;33m\u001b[0m\u001b[1;33m\u001b[0m\u001b[0m\n\u001b[0m",
      "\u001b[1;31merror\u001b[0m: OpenCV(4.5.4-dev) D:\\a\\opencv-python\\opencv-python\\opencv\\modules\\highgui\\src\\window_w32.cpp:1261: error: (-27:Null pointer) NULL window: 'Output' in function 'cvDestroyWindow'\n"
     ]
    }
   ],
   "source": [
    "if q_pred<=0.5 :\n",
    "    target = \"daun_jeruk\"\n",
    "else :\n",
    "    target = \"daun_seledri\"\n",
    "text = \"{}\".format(target)\n",
    "cv2.putText(output, text, (10, 30), cv2.FONT_HERSHEY_SIMPLEX, 0.7, (0, 0, 255), 2)\n",
    " \n",
    "# menampilkan output image\n",
    "cv2.imshow('Output', output)\n",
    "cv2.waitKey() # image tidak akan diclose,sebelum user menekan sembarang tombol\n",
    "cv2.destroyWindow('Output') # image akan diclose"
   ]
  },
  {
   "cell_type": "code",
   "execution_count": null,
   "metadata": {},
   "outputs": [],
   "source": []
  }
 ],
 "metadata": {
  "interpreter": {
   "hash": "b5843a13e7131a14c3c0e364f0390d6592a995e3082c3f83420ac4385eeb2370"
  },
  "kernelspec": {
   "display_name": "Python 3.9.6 64-bit",
   "name": "python3"
  },
  "language_info": {
   "codemirror_mode": {
    "name": "ipython",
    "version": 3
   },
   "file_extension": ".py",
   "mimetype": "text/x-python",
   "name": "python",
   "nbconvert_exporter": "python",
   "pygments_lexer": "ipython3",
   "version": "3.9.9"
  }
 },
 "nbformat": 4,
 "nbformat_minor": 4
}
