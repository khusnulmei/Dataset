{
 "cells": [
  {
   "cell_type": "markdown",
   "metadata": {},
   "source": [
    "<h3>1. Import module yang dibutuhkan</h3>"
   ]
  },
  {
   "cell_type": "code",
   "execution_count": 1,
   "metadata": {},
   "outputs": [],
   "source": [
    "from sklearn.model_selection import train_test_split\n",
    "from sklearn.preprocessing import LabelEncoder\n",
    "from sklearn.metrics import classification_report\n",
    "from tensorflow.keras.models import Sequential\n",
    "from tensorflow.keras.layers import InputLayer, Flatten, Dense, Conv2D, MaxPool2D, Dropout\n",
    "from tensorflow.keras.optimizers import Adam\n",
    "import numpy as np\n",
    "import cv2\n",
    "import glob\n",
    "import matplotlib.pyplot as plt"
   ]
  },
  {
   "cell_type": "markdown",
   "metadata": {},
   "source": [
    "<h3>2. Load Dataset</h3>"
   ]
  },
  {
   "cell_type": "code",
   "execution_count": 2,
   "metadata": {},
   "outputs": [],
   "source": [
    "imagePaths = 'dataset\\\\daun\\\\'\n",
    "label_list = ['daun_jeruk', 'daun_seledri']\n",
    "data = []\n",
    "labels = []"
   ]
  },
  {
   "cell_type": "code",
   "execution_count": 3,
   "metadata": {},
   "outputs": [],
   "source": [
    "for label in label_list:\n",
    "    for imagePath in glob.glob(imagePaths+label+'\\\\*.jpg'):\n",
    "        #print(imagePath)\n",
    "        image = cv2.imread(imagePath)\n",
    "        image = cv2.resize(image, (32, 32))\n",
    "        data.append(image)\n",
    "        labels.append(label)"
   ]
  },
  {
   "cell_type": "code",
   "execution_count": 4,
   "metadata": {},
   "outputs": [
    {
     "data": {
      "text/plain": [
       "(100, 32, 32, 3)"
      ]
     },
     "execution_count": 4,
     "metadata": {},
     "output_type": "execute_result"
    }
   ],
   "source": [
    "np.array(data).shape"
   ]
  },
  {
   "cell_type": "markdown",
   "metadata": {},
   "source": [
    "<h3>3. Data Preprocessing</h3>"
   ]
  },
  {
   "cell_type": "code",
   "execution_count": 5,
   "metadata": {},
   "outputs": [],
   "source": [
    "# ubah type data dari list menjadi array\n",
    "# ubah nilai dari tiap pixel menjadi range [0..1]\n",
    "data = np.array(data, dtype='float') / 255.0\n",
    "labels = np.array(labels)"
   ]
  },
  {
   "cell_type": "code",
   "execution_count": 6,
   "metadata": {},
   "outputs": [
    {
     "name": "stdout",
     "output_type": "stream",
     "text": [
      "['daun_jeruk' 'daun_jeruk' 'daun_jeruk' 'daun_jeruk' 'daun_jeruk'\n",
      " 'daun_jeruk' 'daun_jeruk' 'daun_jeruk' 'daun_jeruk' 'daun_jeruk'\n",
      " 'daun_jeruk' 'daun_jeruk' 'daun_jeruk' 'daun_jeruk' 'daun_jeruk'\n",
      " 'daun_jeruk' 'daun_jeruk' 'daun_jeruk' 'daun_jeruk' 'daun_jeruk'\n",
      " 'daun_jeruk' 'daun_jeruk' 'daun_jeruk' 'daun_jeruk' 'daun_jeruk'\n",
      " 'daun_jeruk' 'daun_jeruk' 'daun_jeruk' 'daun_jeruk' 'daun_jeruk'\n",
      " 'daun_jeruk' 'daun_jeruk' 'daun_jeruk' 'daun_jeruk' 'daun_jeruk'\n",
      " 'daun_jeruk' 'daun_jeruk' 'daun_jeruk' 'daun_jeruk' 'daun_jeruk'\n",
      " 'daun_jeruk' 'daun_jeruk' 'daun_jeruk' 'daun_jeruk' 'daun_jeruk'\n",
      " 'daun_jeruk' 'daun_jeruk' 'daun_jeruk' 'daun_jeruk' 'daun_jeruk'\n",
      " 'daun_seledri' 'daun_seledri' 'daun_seledri' 'daun_seledri'\n",
      " 'daun_seledri' 'daun_seledri' 'daun_seledri' 'daun_seledri'\n",
      " 'daun_seledri' 'daun_seledri' 'daun_seledri' 'daun_seledri'\n",
      " 'daun_seledri' 'daun_seledri' 'daun_seledri' 'daun_seledri'\n",
      " 'daun_seledri' 'daun_seledri' 'daun_seledri' 'daun_seledri'\n",
      " 'daun_seledri' 'daun_seledri' 'daun_seledri' 'daun_seledri'\n",
      " 'daun_seledri' 'daun_seledri' 'daun_seledri' 'daun_seledri'\n",
      " 'daun_seledri' 'daun_seledri' 'daun_seledri' 'daun_seledri'\n",
      " 'daun_seledri' 'daun_seledri' 'daun_seledri' 'daun_seledri'\n",
      " 'daun_seledri' 'daun_seledri' 'daun_seledri' 'daun_seledri'\n",
      " 'daun_seledri' 'daun_seledri' 'daun_seledri' 'daun_seledri'\n",
      " 'daun_seledri' 'daun_seledri' 'daun_seledri' 'daun_seledri'\n",
      " 'daun_seledri' 'daun_seledri']\n"
     ]
    }
   ],
   "source": [
    "print(labels)"
   ]
  },
  {
   "cell_type": "code",
   "execution_count": 7,
   "metadata": {},
   "outputs": [
    {
     "name": "stdout",
     "output_type": "stream",
     "text": [
      "[0 0 0 0 0 0 0 0 0 0 0 0 0 0 0 0 0 0 0 0 0 0 0 0 0 0 0 0 0 0 0 0 0 0 0 0 0\n",
      " 0 0 0 0 0 0 0 0 0 0 0 0 0 1 1 1 1 1 1 1 1 1 1 1 1 1 1 1 1 1 1 1 1 1 1 1 1\n",
      " 1 1 1 1 1 1 1 1 1 1 1 1 1 1 1 1 1 1 1 1 1 1 1 1 1 1]\n"
     ]
    }
   ],
   "source": [
    "# ubah nilai dari labels menjadi binary\n",
    "lb = LabelEncoder()\n",
    "labels = lb.fit_transform(labels)\n",
    "print(labels)"
   ]
  },
  {
   "cell_type": "markdown",
   "metadata": {},
   "source": [
    "<h3>4. Split Dataset</h3>"
   ]
  },
  {
   "cell_type": "code",
   "execution_count": 8,
   "metadata": {},
   "outputs": [],
   "source": [
    "x_train, x_test, y_train, y_test = train_test_split(data, labels, test_size=0.2, random_state=42)"
   ]
  },
  {
   "cell_type": "code",
   "execution_count": 9,
   "metadata": {},
   "outputs": [
    {
     "name": "stdout",
     "output_type": "stream",
     "text": [
      "Ukuran data train = (80, 32, 32, 3)\n",
      "Ukuran data test = (20, 32, 32, 3)\n"
     ]
    }
   ],
   "source": [
    "print('Ukuran data train =', x_train.shape)\n",
    "print('Ukuran data test =', x_test.shape)"
   ]
  },
  {
   "cell_type": "markdown",
   "metadata": {},
   "source": [
    "<h3>5. Build CNN Architecture</h3>"
   ]
  },
  {
   "cell_type": "code",
   "execution_count": 10,
   "metadata": {},
   "outputs": [],
   "source": [
    "model = Sequential()\n",
    "# Extracted Feature Layer\n",
    "model.add(InputLayer(input_shape=[32,32,3]))\n",
    "model.add(Conv2D(filters=32, kernel_size=2, strides=1, padding='same', activation='relu'))\n",
    "model.add(MaxPool2D(pool_size=2, padding='same'))\n",
    "model.add(Conv2D(filters=50, kernel_size=2, strides=1, padding='same', activation='relu'))\n",
    "model.add(MaxPool2D(pool_size=2, padding='same'))\n",
    "model.add(Dropout(0.25))\n",
    "model.add(Flatten())\n",
    "# Fully Connected Layer\n",
    "model.add(Dense(512, activation='relu'))\n",
    "model.add(Dropout(0.5))\n",
    "model.add(Dense(1, activation='sigmoid'))"
   ]
  },
  {
   "cell_type": "code",
   "execution_count": 11,
   "metadata": {},
   "outputs": [
    {
     "name": "stdout",
     "output_type": "stream",
     "text": [
      "Model: \"sequential\"\n",
      "_________________________________________________________________\n",
      " Layer (type)                Output Shape              Param #   \n",
      "=================================================================\n",
      " conv2d (Conv2D)             (None, 32, 32, 32)        416       \n",
      "                                                                 \n",
      " max_pooling2d (MaxPooling2D  (None, 16, 16, 32)       0         \n",
      " )                                                               \n",
      "                                                                 \n",
      " conv2d_1 (Conv2D)           (None, 16, 16, 50)        6450      \n",
      "                                                                 \n",
      " max_pooling2d_1 (MaxPooling  (None, 8, 8, 50)         0         \n",
      " 2D)                                                             \n",
      "                                                                 \n",
      " dropout (Dropout)           (None, 8, 8, 50)          0         \n",
      "                                                                 \n",
      " flatten (Flatten)           (None, 3200)              0         \n",
      "                                                                 \n",
      " dense (Dense)               (None, 512)               1638912   \n",
      "                                                                 \n",
      " dropout_1 (Dropout)         (None, 512)               0         \n",
      "                                                                 \n",
      " dense_1 (Dense)             (None, 1)                 513       \n",
      "                                                                 \n",
      "=================================================================\n",
      "Total params: 1,646,291\n",
      "Trainable params: 1,646,291\n",
      "Non-trainable params: 0\n",
      "_________________________________________________________________\n"
     ]
    }
   ],
   "source": [
    "model.summary()"
   ]
  },
  {
   "cell_type": "code",
   "execution_count": 12,
   "metadata": {},
   "outputs": [],
   "source": [
    "# tentukan hyperparameter\n",
    "lr = 0.001\n",
    "max_epochs = 100\n",
    "opt_funct = Adam(learning_rate=lr)"
   ]
  },
  {
   "cell_type": "code",
   "execution_count": 13,
   "metadata": {},
   "outputs": [],
   "source": [
    "# compile arsitektur yang telah dibuat\n",
    "model.compile(loss = 'binary_crossentropy', \n",
    "              optimizer = opt_funct, \n",
    "              metrics = ['accuracy'])"
   ]
  },
  {
   "cell_type": "markdown",
   "metadata": {},
   "source": [
    "<h3>6. Train Model</h3>"
   ]
  },
  {
   "cell_type": "code",
   "execution_count": 14,
   "metadata": {},
   "outputs": [
    {
     "name": "stdout",
     "output_type": "stream",
     "text": [
      "Epoch 1/100\n",
      "3/3 [==============================] - 1s 137ms/step - loss: 0.7083 - accuracy: 0.4750 - val_loss: 0.6518 - val_accuracy: 0.6000\n",
      "Epoch 2/100\n",
      "3/3 [==============================] - 0s 48ms/step - loss: 0.6963 - accuracy: 0.5250 - val_loss: 0.7459 - val_accuracy: 0.4000\n",
      "Epoch 3/100\n",
      "3/3 [==============================] - 0s 46ms/step - loss: 0.6581 - accuracy: 0.5625 - val_loss: 0.6348 - val_accuracy: 0.7000\n",
      "Epoch 4/100\n",
      "3/3 [==============================] - 0s 46ms/step - loss: 0.6165 - accuracy: 0.7125 - val_loss: 0.5721 - val_accuracy: 0.8000\n",
      "Epoch 5/100\n",
      "3/3 [==============================] - 0s 49ms/step - loss: 0.5560 - accuracy: 0.7750 - val_loss: 0.5825 - val_accuracy: 0.6500\n",
      "Epoch 6/100\n",
      "3/3 [==============================] - 0s 50ms/step - loss: 0.4729 - accuracy: 0.8500 - val_loss: 0.5035 - val_accuracy: 0.9500\n",
      "Epoch 7/100\n",
      "3/3 [==============================] - 0s 46ms/step - loss: 0.3856 - accuracy: 0.9250 - val_loss: 0.4331 - val_accuracy: 0.8500\n",
      "Epoch 8/100\n",
      "3/3 [==============================] - 0s 46ms/step - loss: 0.3409 - accuracy: 0.9500 - val_loss: 0.3976 - val_accuracy: 0.9500\n",
      "Epoch 9/100\n",
      "3/3 [==============================] - 0s 49ms/step - loss: 0.2865 - accuracy: 0.9375 - val_loss: 0.3364 - val_accuracy: 0.9000\n",
      "Epoch 10/100\n",
      "3/3 [==============================] - 0s 46ms/step - loss: 0.2796 - accuracy: 0.9125 - val_loss: 0.3142 - val_accuracy: 0.9500\n",
      "Epoch 11/100\n",
      "3/3 [==============================] - 0s 46ms/step - loss: 0.2220 - accuracy: 0.9375 - val_loss: 0.3026 - val_accuracy: 0.9500\n",
      "Epoch 12/100\n",
      "3/3 [==============================] - 0s 48ms/step - loss: 0.1833 - accuracy: 0.9500 - val_loss: 0.2781 - val_accuracy: 0.8500\n",
      "Epoch 13/100\n",
      "3/3 [==============================] - 0s 48ms/step - loss: 0.1585 - accuracy: 0.9875 - val_loss: 0.2586 - val_accuracy: 0.9500\n",
      "Epoch 14/100\n",
      "3/3 [==============================] - 0s 48ms/step - loss: 0.1480 - accuracy: 0.9250 - val_loss: 0.2712 - val_accuracy: 0.9500\n",
      "Epoch 15/100\n",
      "3/3 [==============================] - 0s 55ms/step - loss: 0.1242 - accuracy: 0.9625 - val_loss: 0.2191 - val_accuracy: 0.9000\n",
      "Epoch 16/100\n",
      "3/3 [==============================] - 0s 48ms/step - loss: 0.1117 - accuracy: 0.9500 - val_loss: 0.2105 - val_accuracy: 0.9500\n",
      "Epoch 17/100\n",
      "3/3 [==============================] - 0s 46ms/step - loss: 0.0735 - accuracy: 0.9875 - val_loss: 0.1990 - val_accuracy: 0.9000\n",
      "Epoch 18/100\n",
      "3/3 [==============================] - 0s 45ms/step - loss: 0.1147 - accuracy: 0.9750 - val_loss: 0.2273 - val_accuracy: 0.9000\n",
      "Epoch 19/100\n",
      "3/3 [==============================] - 0s 44ms/step - loss: 0.1287 - accuracy: 0.9500 - val_loss: 0.2532 - val_accuracy: 0.9500\n",
      "Epoch 20/100\n",
      "3/3 [==============================] - 0s 46ms/step - loss: 0.1027 - accuracy: 0.9500 - val_loss: 0.1900 - val_accuracy: 0.9500\n",
      "Epoch 21/100\n",
      "3/3 [==============================] - 0s 45ms/step - loss: 0.0859 - accuracy: 0.9875 - val_loss: 0.2291 - val_accuracy: 0.8500\n",
      "Epoch 22/100\n",
      "3/3 [==============================] - 0s 48ms/step - loss: 0.0738 - accuracy: 0.9875 - val_loss: 0.2138 - val_accuracy: 0.9500\n",
      "Epoch 23/100\n",
      "3/3 [==============================] - 0s 46ms/step - loss: 0.1117 - accuracy: 0.9500 - val_loss: 0.2206 - val_accuracy: 0.9500\n",
      "Epoch 24/100\n",
      "3/3 [==============================] - 0s 45ms/step - loss: 0.0382 - accuracy: 1.0000 - val_loss: 0.1934 - val_accuracy: 0.9000\n",
      "Epoch 25/100\n",
      "3/3 [==============================] - 0s 46ms/step - loss: 0.0582 - accuracy: 1.0000 - val_loss: 0.1883 - val_accuracy: 0.9000\n",
      "Epoch 26/100\n",
      "3/3 [==============================] - 0s 45ms/step - loss: 0.0435 - accuracy: 1.0000 - val_loss: 0.1976 - val_accuracy: 0.9500\n",
      "Epoch 27/100\n",
      "3/3 [==============================] - 0s 46ms/step - loss: 0.0336 - accuracy: 1.0000 - val_loss: 0.2130 - val_accuracy: 0.9500\n",
      "Epoch 28/100\n",
      "3/3 [==============================] - 0s 45ms/step - loss: 0.0350 - accuracy: 1.0000 - val_loss: 0.1892 - val_accuracy: 0.9500\n",
      "Epoch 29/100\n",
      "3/3 [==============================] - 0s 44ms/step - loss: 0.0411 - accuracy: 1.0000 - val_loss: 0.1881 - val_accuracy: 0.9500\n",
      "Epoch 30/100\n",
      "3/3 [==============================] - 0s 47ms/step - loss: 0.0289 - accuracy: 1.0000 - val_loss: 0.2166 - val_accuracy: 0.9500\n",
      "Epoch 31/100\n",
      "3/3 [==============================] - 0s 46ms/step - loss: 0.0329 - accuracy: 1.0000 - val_loss: 0.2446 - val_accuracy: 0.9500\n",
      "Epoch 32/100\n",
      "3/3 [==============================] - 0s 44ms/step - loss: 0.0513 - accuracy: 0.9875 - val_loss: 0.2038 - val_accuracy: 0.9500\n",
      "Epoch 33/100\n",
      "3/3 [==============================] - 0s 46ms/step - loss: 0.0180 - accuracy: 1.0000 - val_loss: 0.1891 - val_accuracy: 0.9500\n",
      "Epoch 34/100\n",
      "3/3 [==============================] - 0s 50ms/step - loss: 0.0201 - accuracy: 1.0000 - val_loss: 0.1903 - val_accuracy: 0.9500\n",
      "Epoch 35/100\n",
      "3/3 [==============================] - 0s 45ms/step - loss: 0.0213 - accuracy: 1.0000 - val_loss: 0.1956 - val_accuracy: 0.9500\n",
      "Epoch 36/100\n",
      "3/3 [==============================] - 0s 44ms/step - loss: 0.0348 - accuracy: 1.0000 - val_loss: 0.2092 - val_accuracy: 0.9500\n",
      "Epoch 37/100\n",
      "3/3 [==============================] - 0s 46ms/step - loss: 0.0125 - accuracy: 1.0000 - val_loss: 0.2226 - val_accuracy: 0.9500\n",
      "Epoch 38/100\n",
      "3/3 [==============================] - 0s 46ms/step - loss: 0.0183 - accuracy: 1.0000 - val_loss: 0.2112 - val_accuracy: 0.9500\n",
      "Epoch 39/100\n",
      "3/3 [==============================] - 0s 45ms/step - loss: 0.0145 - accuracy: 1.0000 - val_loss: 0.1991 - val_accuracy: 0.9500\n",
      "Epoch 40/100\n",
      "3/3 [==============================] - 0s 46ms/step - loss: 0.0101 - accuracy: 1.0000 - val_loss: 0.2007 - val_accuracy: 0.9500\n",
      "Epoch 41/100\n",
      "3/3 [==============================] - 0s 45ms/step - loss: 0.0209 - accuracy: 1.0000 - val_loss: 0.1939 - val_accuracy: 0.9500\n",
      "Epoch 42/100\n",
      "3/3 [==============================] - 0s 44ms/step - loss: 0.0165 - accuracy: 1.0000 - val_loss: 0.1910 - val_accuracy: 0.9500\n",
      "Epoch 43/100\n",
      "3/3 [==============================] - 0s 45ms/step - loss: 0.0093 - accuracy: 1.0000 - val_loss: 0.2089 - val_accuracy: 0.9500\n",
      "Epoch 44/100\n",
      "3/3 [==============================] - 0s 48ms/step - loss: 0.0136 - accuracy: 1.0000 - val_loss: 0.2025 - val_accuracy: 0.9500\n",
      "Epoch 45/100\n",
      "3/3 [==============================] - 0s 47ms/step - loss: 0.0089 - accuracy: 1.0000 - val_loss: 0.2003 - val_accuracy: 0.9500\n",
      "Epoch 46/100\n",
      "3/3 [==============================] - 0s 47ms/step - loss: 0.0084 - accuracy: 1.0000 - val_loss: 0.1923 - val_accuracy: 0.9500\n",
      "Epoch 47/100\n",
      "3/3 [==============================] - 0s 45ms/step - loss: 0.0135 - accuracy: 1.0000 - val_loss: 0.1974 - val_accuracy: 0.9500\n",
      "Epoch 48/100\n",
      "3/3 [==============================] - 0s 63ms/step - loss: 0.0117 - accuracy: 1.0000 - val_loss: 0.2067 - val_accuracy: 0.9500\n",
      "Epoch 49/100\n",
      "3/3 [==============================] - 0s 47ms/step - loss: 0.0052 - accuracy: 1.0000 - val_loss: 0.2056 - val_accuracy: 0.9500\n",
      "Epoch 50/100\n",
      "3/3 [==============================] - 0s 46ms/step - loss: 0.0073 - accuracy: 1.0000 - val_loss: 0.2079 - val_accuracy: 0.9500\n",
      "Epoch 51/100\n",
      "3/3 [==============================] - 0s 46ms/step - loss: 0.0116 - accuracy: 1.0000 - val_loss: 0.1915 - val_accuracy: 0.9500\n",
      "Epoch 52/100\n",
      "3/3 [==============================] - 0s 49ms/step - loss: 0.0073 - accuracy: 1.0000 - val_loss: 0.1831 - val_accuracy: 0.9500\n",
      "Epoch 53/100\n",
      "3/3 [==============================] - 0s 53ms/step - loss: 0.0147 - accuracy: 1.0000 - val_loss: 0.1921 - val_accuracy: 0.9500\n",
      "Epoch 54/100\n",
      "3/3 [==============================] - 0s 49ms/step - loss: 0.0031 - accuracy: 1.0000 - val_loss: 0.2603 - val_accuracy: 0.9500\n",
      "Epoch 55/100\n",
      "3/3 [==============================] - 0s 53ms/step - loss: 0.0190 - accuracy: 1.0000 - val_loss: 0.2276 - val_accuracy: 0.9500\n",
      "Epoch 56/100\n",
      "3/3 [==============================] - 0s 49ms/step - loss: 0.0049 - accuracy: 1.0000 - val_loss: 0.1816 - val_accuracy: 0.9500\n",
      "Epoch 57/100\n",
      "3/3 [==============================] - 0s 49ms/step - loss: 0.0085 - accuracy: 1.0000 - val_loss: 0.1770 - val_accuracy: 0.9500\n",
      "Epoch 58/100\n",
      "3/3 [==============================] - 0s 59ms/step - loss: 0.0065 - accuracy: 1.0000 - val_loss: 0.1816 - val_accuracy: 0.9500\n",
      "Epoch 59/100\n",
      "3/3 [==============================] - 0s 51ms/step - loss: 0.0055 - accuracy: 1.0000 - val_loss: 0.1988 - val_accuracy: 0.9500\n",
      "Epoch 60/100\n",
      "3/3 [==============================] - 0s 50ms/step - loss: 0.0055 - accuracy: 1.0000 - val_loss: 0.2100 - val_accuracy: 0.9500\n",
      "Epoch 61/100\n",
      "3/3 [==============================] - 0s 50ms/step - loss: 0.0040 - accuracy: 1.0000 - val_loss: 0.2212 - val_accuracy: 0.9500\n",
      "Epoch 62/100\n",
      "3/3 [==============================] - 0s 51ms/step - loss: 0.0049 - accuracy: 1.0000 - val_loss: 0.2188 - val_accuracy: 0.9500\n",
      "Epoch 63/100\n",
      "3/3 [==============================] - 0s 52ms/step - loss: 0.0033 - accuracy: 1.0000 - val_loss: 0.2065 - val_accuracy: 0.9500\n",
      "Epoch 64/100\n",
      "3/3 [==============================] - 0s 52ms/step - loss: 0.0038 - accuracy: 1.0000 - val_loss: 0.2087 - val_accuracy: 0.9500\n",
      "Epoch 65/100\n",
      "3/3 [==============================] - 0s 50ms/step - loss: 0.0066 - accuracy: 1.0000 - val_loss: 0.2076 - val_accuracy: 0.9500\n",
      "Epoch 66/100\n",
      "3/3 [==============================] - 0s 50ms/step - loss: 0.0040 - accuracy: 1.0000 - val_loss: 0.1942 - val_accuracy: 0.9500\n",
      "Epoch 67/100\n",
      "3/3 [==============================] - 0s 50ms/step - loss: 0.0049 - accuracy: 1.0000 - val_loss: 0.1963 - val_accuracy: 0.9500\n",
      "Epoch 68/100\n",
      "3/3 [==============================] - 0s 49ms/step - loss: 0.0039 - accuracy: 1.0000 - val_loss: 0.2229 - val_accuracy: 0.9500\n",
      "Epoch 69/100\n",
      "3/3 [==============================] - 0s 50ms/step - loss: 0.0056 - accuracy: 1.0000 - val_loss: 0.2355 - val_accuracy: 0.9500\n",
      "Epoch 70/100\n",
      "3/3 [==============================] - 0s 47ms/step - loss: 0.0123 - accuracy: 0.9875 - val_loss: 0.1767 - val_accuracy: 0.9500\n",
      "Epoch 71/100\n",
      "3/3 [==============================] - 0s 51ms/step - loss: 0.0184 - accuracy: 0.9875 - val_loss: 0.1680 - val_accuracy: 0.9000\n",
      "Epoch 72/100\n",
      "3/3 [==============================] - 0s 48ms/step - loss: 0.0073 - accuracy: 1.0000 - val_loss: 0.2393 - val_accuracy: 0.9500\n",
      "Epoch 73/100\n",
      "3/3 [==============================] - 0s 50ms/step - loss: 0.0056 - accuracy: 1.0000 - val_loss: 0.3258 - val_accuracy: 0.9500\n",
      "Epoch 74/100\n",
      "3/3 [==============================] - 0s 51ms/step - loss: 0.0208 - accuracy: 0.9875 - val_loss: 0.2192 - val_accuracy: 0.9500\n",
      "Epoch 75/100\n",
      "3/3 [==============================] - 0s 50ms/step - loss: 0.0035 - accuracy: 1.0000 - val_loss: 0.1886 - val_accuracy: 0.9500\n",
      "Epoch 76/100\n",
      "3/3 [==============================] - 0s 49ms/step - loss: 0.0077 - accuracy: 1.0000 - val_loss: 0.1915 - val_accuracy: 0.9500\n",
      "Epoch 77/100\n",
      "3/3 [==============================] - 0s 51ms/step - loss: 0.0054 - accuracy: 1.0000 - val_loss: 0.2414 - val_accuracy: 0.9500\n",
      "Epoch 78/100\n",
      "3/3 [==============================] - 0s 49ms/step - loss: 0.0055 - accuracy: 1.0000 - val_loss: 0.2699 - val_accuracy: 0.9500\n",
      "Epoch 79/100\n",
      "3/3 [==============================] - 0s 49ms/step - loss: 0.0140 - accuracy: 1.0000 - val_loss: 0.2036 - val_accuracy: 0.9500\n",
      "Epoch 80/100\n",
      "3/3 [==============================] - 0s 49ms/step - loss: 0.0036 - accuracy: 1.0000 - val_loss: 0.1685 - val_accuracy: 0.9500\n",
      "Epoch 81/100\n",
      "3/3 [==============================] - 0s 49ms/step - loss: 0.0078 - accuracy: 1.0000 - val_loss: 0.1646 - val_accuracy: 0.9500\n",
      "Epoch 82/100\n",
      "3/3 [==============================] - 0s 50ms/step - loss: 0.0042 - accuracy: 1.0000 - val_loss: 0.1754 - val_accuracy: 0.9500\n",
      "Epoch 83/100\n",
      "3/3 [==============================] - 0s 51ms/step - loss: 0.0018 - accuracy: 1.0000 - val_loss: 0.1970 - val_accuracy: 0.9500\n",
      "Epoch 84/100\n",
      "3/3 [==============================] - 0s 49ms/step - loss: 0.0035 - accuracy: 1.0000 - val_loss: 0.2110 - val_accuracy: 0.9500\n",
      "Epoch 85/100\n",
      "3/3 [==============================] - 0s 48ms/step - loss: 0.0015 - accuracy: 1.0000 - val_loss: 0.2226 - val_accuracy: 0.9500\n",
      "Epoch 86/100\n",
      "3/3 [==============================] - 0s 53ms/step - loss: 0.0017 - accuracy: 1.0000 - val_loss: 0.2295 - val_accuracy: 0.9500\n",
      "Epoch 87/100\n",
      "3/3 [==============================] - 0s 50ms/step - loss: 0.0013 - accuracy: 1.0000 - val_loss: 0.2365 - val_accuracy: 0.9500\n",
      "Epoch 88/100\n",
      "3/3 [==============================] - 0s 49ms/step - loss: 0.0017 - accuracy: 1.0000 - val_loss: 0.2403 - val_accuracy: 0.9500\n",
      "Epoch 89/100\n",
      "3/3 [==============================] - 0s 53ms/step - loss: 0.0031 - accuracy: 1.0000 - val_loss: 0.2199 - val_accuracy: 0.9500\n",
      "Epoch 90/100\n",
      "3/3 [==============================] - 0s 51ms/step - loss: 0.0020 - accuracy: 1.0000 - val_loss: 0.2109 - val_accuracy: 0.9500\n",
      "Epoch 91/100\n",
      "3/3 [==============================] - 0s 54ms/step - loss: 0.0015 - accuracy: 1.0000 - val_loss: 0.2088 - val_accuracy: 0.9500\n",
      "Epoch 92/100\n",
      "3/3 [==============================] - 0s 49ms/step - loss: 9.1377e-04 - accuracy: 1.0000 - val_loss: 0.2138 - val_accuracy: 0.9500\n",
      "Epoch 93/100\n",
      "3/3 [==============================] - 0s 57ms/step - loss: 8.6263e-04 - accuracy: 1.0000 - val_loss: 0.2215 - val_accuracy: 0.9500\n",
      "Epoch 94/100\n",
      "3/3 [==============================] - 0s 55ms/step - loss: 0.0016 - accuracy: 1.0000 - val_loss: 0.2272 - val_accuracy: 0.9500\n",
      "Epoch 95/100\n",
      "3/3 [==============================] - 0s 53ms/step - loss: 9.9431e-04 - accuracy: 1.0000 - val_loss: 0.2287 - val_accuracy: 0.9500\n",
      "Epoch 96/100\n",
      "3/3 [==============================] - 0s 56ms/step - loss: 0.0012 - accuracy: 1.0000 - val_loss: 0.2269 - val_accuracy: 0.9500\n",
      "Epoch 97/100\n",
      "3/3 [==============================] - 0s 69ms/step - loss: 6.2004e-04 - accuracy: 1.0000 - val_loss: 0.2200 - val_accuracy: 0.9500\n",
      "Epoch 98/100\n",
      "3/3 [==============================] - 0s 62ms/step - loss: 0.0013 - accuracy: 1.0000 - val_loss: 0.2147 - val_accuracy: 0.9500\n",
      "Epoch 99/100\n",
      "3/3 [==============================] - 0s 57ms/step - loss: 0.0012 - accuracy: 1.0000 - val_loss: 0.2081 - val_accuracy: 0.9500\n",
      "Epoch 100/100\n",
      "3/3 [==============================] - 0s 52ms/step - loss: 9.6007e-04 - accuracy: 1.0000 - val_loss: 0.2078 - val_accuracy: 0.9500\n"
     ]
    }
   ],
   "source": [
    "H = model.fit(x_train, y_train, validation_data=(x_test, y_test), \n",
    "          epochs=max_epochs, batch_size=32)"
   ]
  },
  {
   "cell_type": "code",
   "execution_count": 15,
   "metadata": {},
   "outputs": [
    {
     "data": {
      "image/png": "[encoded data removed]",
      "text/plain": [
       "<Figure size 432x288 with 1 Axes>"
      ]
     },
     "metadata": {},
     "output_type": "display_data"
    }
   ],
   "source": [
    "N = np.arange(0, max_epochs)\n",
    "plt.style.use(\"ggplot\")\n",
    "plt.figure()\n",
    "plt.plot(N, H.history[\"loss\"], label=\"train_loss\")\n",
    "plt.plot(N, H.history[\"val_loss\"], label=\"val_loss\")\n",
    "#plt.plot(N, H.history[\"accuracy\"], label=\"train_acc\")\n",
    "#plt.plot(N, H.history[\"val_accuracy\"], label=\"val_acc\")\n",
    "plt.xlabel(\"Epoch #\")\n",
    "plt.legend()\n",
    "plt.show()"
   ]
  },
  {
   "cell_type": "markdown",
   "metadata": {},
   "source": [
    "<h3>7. Evaluate the Model</h3>"
   ]
  },
  {
   "cell_type": "code",
   "execution_count": 16,
   "metadata": {},
   "outputs": [
    {
     "name": "stdout",
     "output_type": "stream",
     "text": [
      "              precision    recall  f1-score   support\n",
      "\n",
      "  daun_jeruk       1.00      0.92      0.96        12\n",
      "daun_seledri       0.89      1.00      0.94         8\n",
      "\n",
      "    accuracy                           0.95        20\n",
      "   macro avg       0.94      0.96      0.95        20\n",
      "weighted avg       0.96      0.95      0.95        20\n",
      "\n"
     ]
    },
    {
     "name": "stderr",
     "output_type": "stream",
     "text": [
      "C:\\Users\\User\\AppData\\Local\\Temp/ipykernel_8012/954476436.py:3: DeprecationWarning: `np.int` is a deprecated alias for the builtin `int`. To silence this warning, use `int` by itself. Doing this will not modify any behavior and is safe. When replacing `np.int`, you may wish to use e.g. `np.int64` or `np.int32` to specify the precision. If you wish to review your current use, check the release note link for additional information.\n",
      "Deprecated in NumPy 1.20; for more details and guidance: https://numpy.org/devdocs/release/1.20.0-notes.html#deprecations\n",
      "  target = (predictions > 0.5).astype(np.int)\n"
     ]
    }
   ],
   "source": [
    "# menghitung nilai akurasi model terhadap data test\n",
    "predictions = model.predict(x_test, batch_size=32)\n",
    "target = (predictions > 0.5).astype(np.int)\n",
    "print(classification_report(y_test, target, target_names=label_list))"
   ]
  },
  {
   "cell_type": "code",
   "execution_count": null,
   "metadata": {},
   "outputs": [
    {
     "name": "stdout",
     "output_type": "stream",
     "text": [
      "[[0.9984309]]\n"
     ]
    }
   ],
   "source": [
    "# uji model menggunakan image lain\n",
    "queryPath = imagePaths+'daunseledri_001.jpg'\n",
    "query = cv2.imread(queryPath)\n",
    "output = query.copy()\n",
    "output = cv2.resize(query, (500,400))\n",
    "query = cv2.resize(query, (32, 32))\n",
    "q = []\n",
    "q.append(query)\n",
    "q = np.array(q, dtype='float') / 255.0\n",
    "\n",
    "q_pred = model.predict(q)\n",
    "print(q_pred)"
   ]
  },
  {
   "cell_type": "code",
   "execution_count": 18,
   "metadata": {},
   "outputs": [],
   "source": [
    "if q_pred<=0.5 :\n",
    "    target = \"daun_jeruk\"\n",
    "else :\n",
    "    target = \"daun_seledri\"\n",
    "text = \"{}\".format(target)\n",
    "cv2.putText(output, text, (10, 30), cv2.FONT_HERSHEY_SIMPLEX, 0.7, (0, 0, 255), 2)\n",
    " \n",
    "# menampilkan output image\n",
    "cv2.imshow('Output', output)\n",
    "cv2.waitKey() # image tidak akan diclose,sebelum user menekan sembarang tombol\n",
    "cv2.destroyWindow('Output') # image akan diclose"
   ]
  },
  {
   "cell_type": "code",
   "execution_count": null,
   "metadata": {},
   "outputs": [],
   "source": []
  }
 ],
 "metadata": {
  "kernelspec": {
   "display_name": "Python 3",
   "language": "python",
   "name": "python3"
  },
  "language_info": {
   "codemirror_mode": {
    "name": "ipython",
    "version": 3
   },
   "file_extension": ".py",
   "mimetype": "text/x-python",
   "name": "python",
   "nbconvert_exporter": "python",
   "pygments_lexer": "ipython3",
   "version": "3.9.9"
  }
 },
 "nbformat": 4,
 "nbformat_minor": 4
}
